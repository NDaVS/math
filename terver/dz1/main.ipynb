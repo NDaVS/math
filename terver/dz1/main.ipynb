{
 "cells": [
  {
   "cell_type": "code",
   "execution_count": 63,
   "id": "initial_id",
   "metadata": {
    "collapsed": true,
    "ExecuteTime": {
     "end_time": "2024-03-08T01:55:24.084558Z",
     "start_time": "2024-03-08T01:55:24.064529Z"
    }
   },
   "outputs": [],
   "source": [
    "values = [83, 80, 76, 79, 81, 69, 78, 87, 72, 84, 73, 85, 76, 79, 75, 65, 77, 89, 83, 70, 90, 82, 79, 88, 88, 86, 84,\n",
    "          81, 74, 70, 92, 73, 80, 80, 87, 81, 77, 74, 66, 69, 71, 78, 85, 78, 82, 75, 71, 77, 86, 74]\n",
    "# print(max(values))\n",
    "# print(min(values))\n",
    "\n",
    "max_value = max(values)\n",
    "min_value = min(values)\n",
    "\n",
    "step = (max_value - min_value) / 8\n",
    "intervals = []\n",
    "while min_value < max_value:\n",
    "    intervals.append([[min_value, min_value + 3]])\n",
    "    min_value += 3\n"
   ]
  },
  {
   "cell_type": "code",
   "outputs": [
    {
     "data": {
      "text/plain": "[[[65, 68]],\n [[68, 71]],\n [[71, 74]],\n [[74, 77]],\n [[77, 80]],\n [[80, 83]],\n [[83, 86]],\n [[86, 89]],\n [[89, 92]]]"
     },
     "execution_count": 64,
     "metadata": {},
     "output_type": "execute_result"
    }
   ],
   "source": [
    "intervals"
   ],
   "metadata": {
    "collapsed": false,
    "ExecuteTime": {
     "end_time": "2024-03-08T01:55:24.100533Z",
     "start_time": "2024-03-08T01:55:24.086531Z"
    }
   },
   "id": "febd99085115064b",
   "execution_count": 64
  },
  {
   "cell_type": "code",
   "outputs": [
    {
     "data": {
      "text/plain": "[[[65, 68], 2],\n [[68, 71], 4],\n [[71, 74], 5],\n [[74, 77], 7],\n [[77, 80], 9],\n [[80, 83], 8],\n [[83, 86], 6],\n [[86, 89], 6],\n [[89, 92], 3]]"
     },
     "execution_count": 65,
     "metadata": {},
     "output_type": "execute_result"
    }
   ],
   "source": [
    "#считаем частоты вариант\n",
    "for interval in intervals:\n",
    "    counter = 0\n",
    "    for value in values:\n",
    "        if interval[0][0] <= value < interval[0][1]:\n",
    "            counter += 1\n",
    "    interval.append(counter)\n",
    "intervals[-1][1]+=1\n",
    "intervals"
   ],
   "metadata": {
    "collapsed": false,
    "ExecuteTime": {
     "end_time": "2024-03-08T01:55:24.115552Z",
     "start_time": "2024-03-08T01:55:24.101531Z"
    }
   },
   "id": "94b1d4fad9580564",
   "execution_count": 65
  },
  {
   "cell_type": "code",
   "outputs": [
    {
     "data": {
      "text/plain": "50"
     },
     "execution_count": 66,
     "metadata": {},
     "output_type": "execute_result"
    }
   ],
   "source": [
    "#проверка, что ничего не потеряли\n",
    "sums = 0\n",
    "for interval in intervals:\n",
    "    sums += interval[1]\n",
    "sums"
   ],
   "metadata": {
    "collapsed": false,
    "ExecuteTime": {
     "end_time": "2024-03-08T01:55:24.131532Z",
     "start_time": "2024-03-08T01:55:24.117531Z"
    }
   },
   "id": "7a4ca30eac6a803b",
   "execution_count": 66
  },
  {
   "cell_type": "code",
   "outputs": [],
   "source": [
    "#вычисление середины интервала\n",
    "for interval in intervals:\n",
    "    interval.append((interval[0][1] + interval[0][0])/2)"
   ],
   "metadata": {
    "collapsed": false,
    "ExecuteTime": {
     "end_time": "2024-03-08T01:55:24.146558Z",
     "start_time": "2024-03-08T01:55:24.133531Z"
    }
   },
   "id": "b17ae0baeaf63f3a",
   "execution_count": 67
  },
  {
   "cell_type": "code",
   "outputs": [],
   "source": [
    "table = intervals"
   ],
   "metadata": {
    "collapsed": false,
    "ExecuteTime": {
     "end_time": "2024-03-08T01:55:24.162561Z",
     "start_time": "2024-03-08T01:55:24.147533Z"
    }
   },
   "id": "ce901080fc85dcad",
   "execution_count": 68
  },
  {
   "cell_type": "code",
   "outputs": [
    {
     "data": {
      "text/plain": "[[[65, 68], 2, 66.5, 0.7],\n [[68, 71], 4, 69.5, 1.3],\n [[71, 74], 5, 72.5, 1.7],\n [[74, 77], 7, 75.5, 2.3],\n [[77, 80], 9, 78.5, 3.0],\n [[80, 83], 8, 81.5, 2.7],\n [[83, 86], 6, 84.5, 2.0],\n [[86, 89], 6, 87.5, 2.0],\n [[89, 92], 3, 90.5, 1.0]]"
     },
     "execution_count": 69,
     "metadata": {},
     "output_type": "execute_result"
    }
   ],
   "source": [
    "for row in table:\n",
    "    row.append(round(row[1]/3,1))\n",
    "table"
   ],
   "metadata": {
    "collapsed": false,
    "ExecuteTime": {
     "end_time": "2024-03-08T01:55:24.178558Z",
     "start_time": "2024-03-08T01:55:24.164559Z"
    }
   },
   "id": "a96ac0b50be0bf00",
   "execution_count": 69
  },
  {
   "cell_type": "code",
   "outputs": [
    {
     "data": {
      "text/plain": "<Figure size 432x288 with 1 Axes>",
      "image/png": "[encoded data removed]"
     },
     "metadata": {
      "needs_background": "light"
     },
     "output_type": "display_data"
    }
   ],
   "source": [
    "import matplotlib.pyplot as plt\n",
    "import numpy as np\n",
    "\n",
    "data = [values]\n",
    "x = np.array(data)\n",
    "\n",
    "plt.hist(x)\n",
    "plt.show()"
   ],
   "metadata": {
    "collapsed": false,
    "ExecuteTime": {
     "end_time": "2024-03-08T02:04:13.039860Z",
     "start_time": "2024-03-08T02:04:12.230574Z"
    }
   },
   "id": "fe02bfe07a30439d",
   "execution_count": 71
  },
  {
   "cell_type": "code",
   "outputs": [],
   "source": [],
   "metadata": {
    "collapsed": false
   },
   "id": "6d764d6d513ec7c9"
  }
 ],
 "metadata": {
  "kernelspec": {
   "display_name": "Python 3",
   "language": "python",
   "name": "python3"
  },
  "language_info": {
   "codemirror_mode": {
    "name": "ipython",
    "version": 2
   },
   "file_extension": ".py",
   "mimetype": "text/x-python",
   "name": "python",
   "nbconvert_exporter": "python",
   "pygments_lexer": "ipython2",
   "version": "2.7.6"
  }
 },
 "nbformat": 4,
 "nbformat_minor": 5
}
