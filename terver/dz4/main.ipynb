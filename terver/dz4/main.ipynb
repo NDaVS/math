{
 "cells": [
  {
   "cell_type": "code",
   "execution_count": 1,
   "id": "initial_id",
   "metadata": {
    "collapsed": true,
    "ExecuteTime": {
     "end_time": "2024-04-05T00:07:38.920700600Z",
     "start_time": "2024-04-05T00:07:38.617649100Z"
    }
   },
   "outputs": [],
   "source": [
    "import numpy as np\n",
    "import math"
   ]
  },
  {
   "cell_type": "markdown",
   "source": [
    "1.1"
   ],
   "metadata": {
    "collapsed": false
   },
   "id": "97aa8d30699f7c17"
  },
  {
   "cell_type": "code",
   "execution_count": 2,
   "outputs": [
    {
     "name": "stdout",
     "output_type": "stream",
     "text": [
      "Вариационный ряд с частотами:\n",
      "2: 6\n",
      "3: 5\n",
      "4: 4\n",
      "5: 4\n",
      "6: 2\n",
      "7: 1\n"
     ]
    }
   ],
   "source": [
    "families = np.array([3, 2, 5, 4, 6, 5, 3, 2, 4, 3, 4, 2, 3, 2, 5, 2, 3, 4, 2, 5, 7, 6])\n",
    "\n",
    "# Получение уникальных значений и их частот\n",
    "unique_values, counts = np.unique(families, return_counts=True)\n",
    "\n",
    "# Сортировка уникальных значений\n",
    "sorted_unique_values = np.sort(unique_values)\n",
    "\n",
    "# Вывод вариационного ряда с частотами\n",
    "print(\"Вариационный ряд с частотами:\")\n",
    "for value, count in zip(sorted_unique_values, counts):\n",
    "    print(f\"{value}: {count}\")"
   ],
   "metadata": {
    "collapsed": false,
    "ExecuteTime": {
     "end_time": "2024-04-05T00:07:38.974948400Z",
     "start_time": "2024-04-05T00:07:38.893185800Z"
    }
   },
   "id": "1618fcc23af63a92"
  },
  {
   "cell_type": "markdown",
   "source": [
    "Характер удручает (нет).\n"
   ],
   "metadata": {
    "collapsed": false
   },
   "id": "760a44213c752415"
  },
  {
   "cell_type": "markdown",
   "source": [
    "1.2"
   ],
   "metadata": {
    "collapsed": false
   },
   "id": "90f305f7c3396c7f"
  },
  {
   "cell_type": "code",
   "execution_count": 3,
   "outputs": [
    {
     "data": {
      "text/plain": "30"
     },
     "execution_count": 3,
     "metadata": {},
     "output_type": "execute_result"
    }
   ],
   "source": [
    "ppl = np.array(\n",
    "    [7.0, 6.0, 5.9, 9.4, 6.5, 7.3, 7.6, 9.3, 5.8, 7.2, 7.1, 8.3, 7.5, 6.8, 7.1, 9.2, 6.1, 8.5, 7.4, 7.8, 10.2, 9.4, 8.8,\n",
    "     8.3, 7.9, 9.2, 8.9, 9.0, 8.7, 8.5])\n",
    "\n",
    "unique_values, counts = np.unique(ppl, return_counts=True)\n",
    "\n",
    "# Сортировка уникальных значений\n",
    "sorted_unique_values = np.sort(unique_values)\n",
    "\n",
    "ppl.size"
   ],
   "metadata": {
    "collapsed": false,
    "ExecuteTime": {
     "end_time": "2024-04-05T00:07:39.140967100Z",
     "start_time": "2024-04-05T00:07:38.921885100Z"
    }
   },
   "id": "b6b8af56c193d80"
  },
  {
   "cell_type": "markdown",
   "source": [
    "Для начала выберем количество групп. Для этого можно воспользоваться формулой Стерджесса:"
   ],
   "metadata": {
    "collapsed": false
   },
   "id": "66443bfe0ca7f501"
  },
  {
   "cell_type": "code",
   "execution_count": 4,
   "outputs": [
    {
     "data": {
      "text/plain": "0.733"
     },
     "execution_count": 4,
     "metadata": {},
     "output_type": "execute_result"
    }
   ],
   "source": [
    "k = round(1 + 3.322 * math.log10(ppl.size))\n",
    "h = round((ppl.max() - ppl.min()) / 6, 3)\n",
    "h"
   ],
   "metadata": {
    "collapsed": false,
    "ExecuteTime": {
     "end_time": "2024-04-05T00:07:39.143953900Z",
     "start_time": "2024-04-05T00:07:38.969769900Z"
    }
   },
   "id": "56951298cb6531e3"
  },
  {
   "cell_type": "code",
   "execution_count": 5,
   "outputs": [
    {
     "data": {
      "text/plain": "[[5.8, 6.533],\n [6.533, 7.266],\n [7.266, 7.999],\n [7.999, 8.732],\n [8.732, 9.465],\n [9.465, 10.2]]"
     },
     "execution_count": 5,
     "metadata": {},
     "output_type": "execute_result"
    }
   ],
   "source": [
    "intervals = [[round(ppl.min() + i * h, 3), round(ppl.min() + (i + 1) * h, 3)] for i in range(k)]\n",
    "intervals[-1][1] = round(intervals[-1][1], 1)\n",
    "intervals"
   ],
   "metadata": {
    "collapsed": false,
    "ExecuteTime": {
     "end_time": "2024-04-05T00:07:39.189784300Z",
     "start_time": "2024-04-05T00:07:38.996703400Z"
    }
   },
   "id": "8997edb8413c9e31"
  },
  {
   "cell_type": "code",
   "execution_count": 6,
   "outputs": [
    {
     "name": "stdout",
     "output_type": "stream",
     "text": [
      "Непрерывный вариационный ряд (открытый и строгий):\n",
      "5.8 - 6.5: 5\n",
      "6.5 - 7.3: 5\n",
      "7.3 - 8.0: 6\n",
      "8.0 - 8.7: 5\n",
      "8.7 - 9.5: 8\n",
      "9.5 - 10.2: 1\n"
     ]
    }
   ],
   "source": [
    "group_counts = [np.sum((ppl >= interval[0]) & (ppl <= interval[1])) for interval in intervals]\n",
    "print(\"Непрерывный вариационный ряд (открытый и строгий):\")\n",
    "for i, interval in enumerate(intervals):\n",
    "    print(f\"{interval[0]:.1f} - {interval[1]:.1f}: {group_counts[i]}\")"
   ],
   "metadata": {
    "collapsed": false,
    "ExecuteTime": {
     "end_time": "2024-04-05T00:07:39.191883600Z",
     "start_time": "2024-04-05T00:07:39.027834800Z"
    }
   },
   "id": "6b3ac9ae35400fed"
  },
  {
   "cell_type": "code",
   "execution_count": 7,
   "outputs": [
    {
     "name": "stdout",
     "output_type": "stream",
     "text": [
      "Непрерывный вариационный ряд (закрытый и строгий):\n",
      "5.8 - 6.5: 5\n",
      "6.5 - 7.3: 5\n",
      "7.3 - 8.0: 6\n",
      "8.0 - 8.7: 5\n",
      "8.7 - 9.5: 8\n",
      "9.5 - 10.2: 1\n",
      "\n",
      "Непрерывный вариационный ряд (закрытый и нестрогий):\n",
      "5.8 - 6.5: 5\n",
      "6.5 - 7.3: 5\n",
      "7.3 - 8.0: 6\n",
      "8.0 - 8.7: 5\n",
      "8.7 - 9.5: 8\n",
      "9.5 - 10.2: 1\n",
      "\n",
      "Непрерывный вариационный ряд (открытый и строгий):\n",
      "7.3 - 6.5: 5\n",
      "8.0 - 7.3: 6\n",
      "8.7 - 8.0: 5\n",
      "9.5 - 8.7: 8\n",
      "\n",
      "Непрерывный вариационный ряд (открытый и нестрогий):\n",
      "5.8 - 6.5: 5\n",
      "7.3 - 6.5: 5\n",
      "8.0 - 7.3: 6\n",
      "8.7 - 8.0: 5\n",
      "9.5 - 8.7: 8\n",
      "9.5 - 10.2: 1\n"
     ]
    }
   ],
   "source": [
    "# Закрытый и строгий вариационный ряд\n",
    "closed_strict_intervals = [(interval[0], interval[1]) for interval in intervals]\n",
    "\n",
    "# Закрытый и нестрогий вариационный ряд\n",
    "closed_nonstrict_intervals = [(interval[0], interval[1]) for interval in intervals]\n",
    "closed_nonstrict_intervals[0] = (ppl.min(), closed_nonstrict_intervals[0][1])\n",
    "closed_nonstrict_intervals[-1] = (closed_nonstrict_intervals[-1][0], ppl.max())\n",
    "\n",
    "# Открытый и строгий вариационный ряд\n",
    "open_strict_intervals = [(interval[0] + h, interval[1] - h) for interval in intervals[1:-1]]\n",
    "\n",
    "# Открытый и нестрогий вариационный ряд\n",
    "open_nonstrict_intervals = [(interval[0] + h, interval[1] - h) for interval in intervals[1:-1]]\n",
    "open_nonstrict_intervals.insert(0, (ppl.min(), intervals[0][1]))\n",
    "open_nonstrict_intervals.append((intervals[-1][0], ppl.max()))\n",
    "\n",
    "# Вывод результатов\n",
    "print(\"Непрерывный вариационный ряд (закрытый и строгий):\")\n",
    "for i, interval in enumerate(closed_strict_intervals):\n",
    "    print(f\"{interval[0]:.1f} - {interval[1]:.1f}: {group_counts[i]}\")\n",
    "\n",
    "print(\"\\nНепрерывный вариационный ряд (закрытый и нестрогий):\")\n",
    "for i, interval in enumerate(closed_nonstrict_intervals):\n",
    "    print(f\"{interval[0]:.1f} - {interval[1]:.1f}: {group_counts[i]}\")\n",
    "\n",
    "print(\"\\nНепрерывный вариационный ряд (открытый и строгий):\")\n",
    "for i, interval in enumerate(open_strict_intervals):\n",
    "    print(f\"{interval[0]:.1f} - {interval[1]:.1f}: {group_counts[i + 1]}\")\n",
    "\n",
    "print(\"\\nНепрерывный вариационный ряд (открытый и нестрогий):\")\n",
    "for i, interval in enumerate(open_nonstrict_intervals):\n",
    "    print(f\"{interval[0]:.1f} - {interval[1]:.1f}: {group_counts[i]}\")\n"
   ],
   "metadata": {
    "collapsed": false,
    "ExecuteTime": {
     "end_time": "2024-04-05T00:07:39.193950400Z",
     "start_time": "2024-04-05T00:07:39.070380900Z"
    }
   },
   "id": "f57daa4350a528"
  },
  {
   "cell_type": "markdown",
   "source": [
    "8.7 - 8.0: 5\n",
    "7.3 - 6.5: 5\n",
    "5.8 - 6.5: 5"
   ],
   "metadata": {
    "collapsed": false
   },
   "id": "38b12689dca457bc"
  },
  {
   "cell_type": "markdown",
   "source": [
    "1.3"
   ],
   "metadata": {
    "collapsed": false
   },
   "id": "eabeaada2cb8d64e"
  },
  {
   "cell_type": "code",
   "execution_count": 8,
   "outputs": [
    {
     "data": {
      "text/plain": "array([ 99.2, 101.2,  99.3, 105. ,  97.3, 103.2, 105.4, 108.2,  95.4,\n        96.8, 100.5,  90.3, 110.8, 111.5, 150.5, 140.3,  89.8, 103.6,\n       115.8, 125.4, 116.5, 130.4,  90.6, 130.4, 170.4, 109.2, 160.3,\n       122.4, 190.3, 202. , 130. , 119.6,  99.9, 119.4, 127. , 130. ,\n       140. , 129. , 150. , 168. ])"
     },
     "execution_count": 8,
     "metadata": {},
     "output_type": "execute_result"
    }
   ],
   "source": [
    "\n",
    "# Данные\n",
    "data = np.array([99.2, 101.2, 99.3, 105.0, 97.3, 103.2, 105.4, 108.2,\n",
    "                 95.4, 96.8, 100.5, 90.3, 110.8, 111.5, 150.5, 140.3,\n",
    "                 89.8, 103.6, 115.8, 125.4, 116.5, 130.4, 90.6, 130.4,\n",
    "                 170.4, 109.2, 160.3, 122.4, 190.3, 202.0, 130.0, 119.6,\n",
    "                 99.9, 119.4, 127.0, 130.0, 140.0, 129.0, 150.0, 168.0])\n",
    "\n",
    "data\n",
    "\n"
   ],
   "metadata": {
    "collapsed": false,
    "ExecuteTime": {
     "end_time": "2024-04-05T00:07:39.197145700Z",
     "start_time": "2024-04-05T00:07:39.092153100Z"
    }
   },
   "id": "ed7922337c3bccbe"
  },
  {
   "cell_type": "code",
   "execution_count": 9,
   "outputs": [
    {
     "data": {
      "text/plain": "28.05"
     },
     "execution_count": 9,
     "metadata": {},
     "output_type": "execute_result"
    }
   ],
   "source": [
    "h = (data.max() - data.min()) / 4\n",
    "h"
   ],
   "metadata": {
    "collapsed": false,
    "ExecuteTime": {
     "end_time": "2024-04-05T00:07:39.576554600Z",
     "start_time": "2024-04-05T00:07:39.120220600Z"
    }
   },
   "id": "2c895391c19d1be2"
  },
  {
   "cell_type": "code",
   "execution_count": 10,
   "outputs": [
    {
     "name": "stdout",
     "output_type": "stream",
     "text": [
      "первый вариант на четверых\n",
      "89.8 - 117.8: 21\n",
      "117.8 - 145.9: 12\n",
      "145.9 - 173.9: 5\n",
      "173.9 - 202.0: 2\n"
     ]
    }
   ],
   "source": [
    "intervals_4 = [[data.min() + i * h, data.min() + (i + 1) * h] for i in range(4)]\n",
    "group_counts = [np.sum((data >= interval[0]) & (data <= interval[1])) for interval in intervals_4]\n",
    "print(\"первый вариант на четверых\")\n",
    "for i, interval in enumerate(intervals_4):\n",
    "    print(f\"{interval[0]:.1f} - {interval[1]:.1f}: {group_counts[i]}\")"
   ],
   "metadata": {
    "collapsed": false,
    "ExecuteTime": {
     "end_time": "2024-04-05T00:07:39.578604800Z",
     "start_time": "2024-04-05T00:07:39.155601500Z"
    }
   },
   "id": "c5f17a5b70cb42a6"
  },
  {
   "cell_type": "code",
   "execution_count": 11,
   "outputs": [
    {
     "name": "stdout",
     "output_type": "stream",
     "text": [
      "loosers:  9\n",
      "cool guys:  31\n"
     ]
    }
   ],
   "source": [
    "# Разделение на две группы\n",
    "group1 = data[data < 100]\n",
    "group2 = data[data >= 100]\n",
    "print(\"loosers: \", group1.size)\n",
    "print(\"cool guys: \", group2.size)"
   ],
   "metadata": {
    "collapsed": false,
    "ExecuteTime": {
     "end_time": "2024-04-05T00:07:39.579612300Z",
     "start_time": "2024-04-05T00:07:39.184541200Z"
    }
   },
   "id": "942237a18d257ff3"
  },
  {
   "cell_type": "markdown",
   "source": [
    "1.4"
   ],
   "metadata": {
    "collapsed": false
   }
  },
  {
   "cell_type": "code",
   "execution_count": 12,
   "outputs": [],
   "source": [
    "tarifs = np.array(\n",
    "    [5, 4, 2, 1, 6, 3, 3, 4, 3, 2, 2, 5, 6, 4, 3, 5, 4, 1, 2, 3, 3, 4, 1, 6, 5, 1, 3, 4, 3, 5, 4, 3, 3, 4, 4, 6, 4, 4,\n",
    "     3, 1, 5, 4, 3, 2, 6, 3, 4, 5, 5, 3, 3, 3, 3, 4, 5, 5, 6, 2, 4])\n",
    "max_value = tarifs.max()\n",
    "min_value = tarifs.min()\n",
    "h = round((max_value - min_value)/3)"
   ],
   "metadata": {
    "collapsed": false,
    "ExecuteTime": {
     "end_time": "2024-04-05T00:19:51.697799200Z",
     "start_time": "2024-04-05T00:19:51.641812600Z"
    }
   },
   "id": "fe15614728fa89cd"
  },
  {
   "cell_type": "code",
   "execution_count": 14,
   "outputs": [
    {
     "name": "stdout",
     "output_type": "stream",
     "text": [
      "[2 3 4 5 6 7]\n",
      "Вариационный ряд с частотами:\n",
      "2: 6\n",
      "3: 5\n",
      "4: 4\n",
      "5: 4\n",
      "6: 2\n",
      "7: 1\n"
     ]
    }
   ],
   "source": [
    "# Получение уникальных значений и их частот\n",
    "unique_values, counts = np.unique(families, return_counts=True)\n",
    "print(unique_values)\n",
    "# Сортировка уникальных значений\n",
    "sorted_unique_values = np.sort(unique_values)\n",
    "\n",
    "# Вывод вариационного ряда с частотами\n",
    "print(\"Вариационный ряд с частотами:\")\n",
    "for value, count in zip(sorted_unique_values, counts):\n",
    "    print(f\"{value}: {count}\")"
   ],
   "metadata": {
    "collapsed": false,
    "ExecuteTime": {
     "end_time": "2024-04-05T00:20:59.337386400Z",
     "start_time": "2024-04-05T00:20:59.313380100Z"
    }
   }
  },
  {
   "cell_type": "code",
   "execution_count": null,
   "outputs": [],
   "source": [],
   "metadata": {
    "collapsed": false
   }
  }
 ],
 "metadata": {
  "kernelspec": {
   "display_name": "Python 3",
   "language": "python",
   "name": "python3"
  },
  "language_info": {
   "codemirror_mode": {
    "name": "ipython",
    "version": 2
   },
   "file_extension": ".py",
   "mimetype": "text/x-python",
   "name": "python",
   "nbconvert_exporter": "python",
   "pygments_lexer": "ipython2",
   "version": "2.7.6"
  }
 },
 "nbformat": 4,
 "nbformat_minor": 5
}
