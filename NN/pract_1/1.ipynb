{
 "cells": [
  {
   "cell_type": "code",
   "id": "initial_id",
   "metadata": {
    "collapsed": true,
    "ExecuteTime": {
     "end_time": "2025-04-15T00:56:01.358786Z",
     "start_time": "2025-04-15T00:55:58.899849Z"
    }
   },
   "source": [
    "import pandas as pd\n",
    "\n",
    "df = pd.read_csv('/home/ndavs/Downloads/traintest_data.csv').drop(\"Unnamed: 0\", axis=1)\n",
    "df.head()\n"
   ],
   "outputs": [
    {
     "data": {
      "text/plain": [
       "   reco_id_curr  target contract_type_name gender own_car_flag  \\\n",
       "0        175028       0    Revolving loans      F            N   \n",
       "1        236424       0         Cash loans      F            N   \n",
       "2        456069       0         Cash loans      F            N   \n",
       "3        339733       0         Cash loans      F            N   \n",
       "4        121041       0         Cash loans      F            Y   \n",
       "\n",
       "  own_realty_flag  children_count    income  loan_body  annuity_payment  ...  \\\n",
       "0               Y               0  202500.0   405000.0          20250.0  ...   \n",
       "1               N               0  135000.0   454500.0          19237.5  ...   \n",
       "2               N               0   67500.0   190764.0          12321.0  ...   \n",
       "3               N               0  157500.0  1350000.0          46926.0  ...   \n",
       "4               Y               0  117000.0   594000.0          19291.5  ...   \n",
       "\n",
       "   document_18_flag document_19_flag document_20_flag document_21_flag  \\\n",
       "0                 0                0                0                0   \n",
       "1                 0                0                0                0   \n",
       "2                 0                0                0                0   \n",
       "3                 0                0                0                0   \n",
       "4                 0                0                0                0   \n",
       "\n",
       "  requests_bki_hour requests_bki_day  requests_bki_week  requests_bki_month  \\\n",
       "0               0.0              0.0                0.0                 0.0   \n",
       "1               0.0              0.0                0.0                 0.0   \n",
       "2               0.0              0.0                0.0                 0.0   \n",
       "3               0.0              0.0                0.0                 0.0   \n",
       "4               0.0              0.0                0.0                 1.0   \n",
       "\n",
       "   requests_bki_qrt  requests_bki_year  \n",
       "0               0.0                1.0  \n",
       "1               0.0                0.0  \n",
       "2               0.0                1.0  \n",
       "3               1.0                1.0  \n",
       "4               0.0                4.0  \n",
       "\n",
       "[5 rows x 118 columns]"
      ],
      "text/html": [
       "<div>\n",
       "<style scoped>\n",
       "    .dataframe tbody tr th:only-of-type {\n",
       "        vertical-align: middle;\n",
       "    }\n",
       "\n",
       "    .dataframe tbody tr th {\n",
       "        vertical-align: top;\n",
       "    }\n",
       "\n",
       "    .dataframe thead th {\n",
       "        text-align: right;\n",
       "    }\n",
       "</style>\n",
       "<table border=\"1\" class=\"dataframe\">\n",
       "  <thead>\n",
       "    <tr style=\"text-align: right;\">\n",
       "      <th></th>\n",
       "      <th>reco_id_curr</th>\n",
       "      <th>target</th>\n",
       "      <th>contract_type_name</th>\n",
       "      <th>gender</th>\n",
       "      <th>own_car_flag</th>\n",
       "      <th>own_realty_flag</th>\n",
       "      <th>children_count</th>\n",
       "      <th>income</th>\n",
       "      <th>loan_body</th>\n",
       "      <th>annuity_payment</th>\n",
       "      <th>...</th>\n",
       "      <th>document_18_flag</th>\n",
       "      <th>document_19_flag</th>\n",
       "      <th>document_20_flag</th>\n",
       "      <th>document_21_flag</th>\n",
       "      <th>requests_bki_hour</th>\n",
       "      <th>requests_bki_day</th>\n",
       "      <th>requests_bki_week</th>\n",
       "      <th>requests_bki_month</th>\n",
       "      <th>requests_bki_qrt</th>\n",
       "      <th>requests_bki_year</th>\n",
       "    </tr>\n",
       "  </thead>\n",
       "  <tbody>\n",
       "    <tr>\n",
       "      <th>0</th>\n",
       "      <td>175028</td>\n",
       "      <td>0</td>\n",
       "      <td>Revolving loans</td>\n",
       "      <td>F</td>\n",
       "      <td>N</td>\n",
       "      <td>Y</td>\n",
       "      <td>0</td>\n",
       "      <td>202500.0</td>\n",
       "      <td>405000.0</td>\n",
       "      <td>20250.0</td>\n",
       "      <td>...</td>\n",
       "      <td>0</td>\n",
       "      <td>0</td>\n",
       "      <td>0</td>\n",
       "      <td>0</td>\n",
       "      <td>0.0</td>\n",
       "      <td>0.0</td>\n",
       "      <td>0.0</td>\n",
       "      <td>0.0</td>\n",
       "      <td>0.0</td>\n",
       "      <td>1.0</td>\n",
       "    </tr>\n",
       "    <tr>\n",
       "      <th>1</th>\n",
       "      <td>236424</td>\n",
       "      <td>0</td>\n",
       "      <td>Cash loans</td>\n",
       "      <td>F</td>\n",
       "      <td>N</td>\n",
       "      <td>N</td>\n",
       "      <td>0</td>\n",
       "      <td>135000.0</td>\n",
       "      <td>454500.0</td>\n",
       "      <td>19237.5</td>\n",
       "      <td>...</td>\n",
       "      <td>0</td>\n",
       "      <td>0</td>\n",
       "      <td>0</td>\n",
       "      <td>0</td>\n",
       "      <td>0.0</td>\n",
       "      <td>0.0</td>\n",
       "      <td>0.0</td>\n",
       "      <td>0.0</td>\n",
       "      <td>0.0</td>\n",
       "      <td>0.0</td>\n",
       "    </tr>\n",
       "    <tr>\n",
       "      <th>2</th>\n",
       "      <td>456069</td>\n",
       "      <td>0</td>\n",
       "      <td>Cash loans</td>\n",
       "      <td>F</td>\n",
       "      <td>N</td>\n",
       "      <td>N</td>\n",
       "      <td>0</td>\n",
       "      <td>67500.0</td>\n",
       "      <td>190764.0</td>\n",
       "      <td>12321.0</td>\n",
       "      <td>...</td>\n",
       "      <td>0</td>\n",
       "      <td>0</td>\n",
       "      <td>0</td>\n",
       "      <td>0</td>\n",
       "      <td>0.0</td>\n",
       "      <td>0.0</td>\n",
       "      <td>0.0</td>\n",
       "      <td>0.0</td>\n",
       "      <td>0.0</td>\n",
       "      <td>1.0</td>\n",
       "    </tr>\n",
       "    <tr>\n",
       "      <th>3</th>\n",
       "      <td>339733</td>\n",
       "      <td>0</td>\n",
       "      <td>Cash loans</td>\n",
       "      <td>F</td>\n",
       "      <td>N</td>\n",
       "      <td>N</td>\n",
       "      <td>0</td>\n",
       "      <td>157500.0</td>\n",
       "      <td>1350000.0</td>\n",
       "      <td>46926.0</td>\n",
       "      <td>...</td>\n",
       "      <td>0</td>\n",
       "      <td>0</td>\n",
       "      <td>0</td>\n",
       "      <td>0</td>\n",
       "      <td>0.0</td>\n",
       "      <td>0.0</td>\n",
       "      <td>0.0</td>\n",
       "      <td>0.0</td>\n",
       "      <td>1.0</td>\n",
       "      <td>1.0</td>\n",
       "    </tr>\n",
       "    <tr>\n",
       "      <th>4</th>\n",
       "      <td>121041</td>\n",
       "      <td>0</td>\n",
       "      <td>Cash loans</td>\n",
       "      <td>F</td>\n",
       "      <td>Y</td>\n",
       "      <td>Y</td>\n",
       "      <td>0</td>\n",
       "      <td>117000.0</td>\n",
       "      <td>594000.0</td>\n",
       "      <td>19291.5</td>\n",
       "      <td>...</td>\n",
       "      <td>0</td>\n",
       "      <td>0</td>\n",
       "      <td>0</td>\n",
       "      <td>0</td>\n",
       "      <td>0.0</td>\n",
       "      <td>0.0</td>\n",
       "      <td>0.0</td>\n",
       "      <td>1.0</td>\n",
       "      <td>0.0</td>\n",
       "      <td>4.0</td>\n",
       "    </tr>\n",
       "  </tbody>\n",
       "</table>\n",
       "<p>5 rows × 118 columns</p>\n",
       "</div>"
      ]
     },
     "execution_count": 2,
     "metadata": {},
     "output_type": "execute_result"
    }
   ],
   "execution_count": 2
  },
  {
   "metadata": {
    "ExecuteTime": {
     "end_time": "2025-04-15T00:56:04.739457Z",
     "start_time": "2025-04-15T00:56:04.609584Z"
    }
   },
   "cell_type": "code",
   "source": [
    "X = df.drop('target', axis=1)\n",
    "y = df['target']\n",
    "X = X.loc[:, ['gender', 'loan_body', 'income', 'income_type_name']]\n",
    "X\n"
   ],
   "id": "d481393d1b8119a7",
   "outputs": [
    {
     "data": {
      "text/plain": [
       "       gender  loan_body    income      income_type_name\n",
       "0           F   405000.0  202500.0               Working\n",
       "1           F   454500.0  135000.0  Commercial associate\n",
       "2           F   190764.0   67500.0               Working\n",
       "3           F  1350000.0  157500.0               Working\n",
       "4           F   594000.0  117000.0               Working\n",
       "...       ...        ...       ...                   ...\n",
       "209102      F   270000.0  180000.0               Working\n",
       "209103      M   312840.0  112500.0               Working\n",
       "209104      F  2013840.0  202500.0  Commercial associate\n",
       "209105      M   162000.0   67500.0               Working\n",
       "209106      M   313438.5  315000.0               Working\n",
       "\n",
       "[209107 rows x 4 columns]"
      ],
      "text/html": [
       "<div>\n",
       "<style scoped>\n",
       "    .dataframe tbody tr th:only-of-type {\n",
       "        vertical-align: middle;\n",
       "    }\n",
       "\n",
       "    .dataframe tbody tr th {\n",
       "        vertical-align: top;\n",
       "    }\n",
       "\n",
       "    .dataframe thead th {\n",
       "        text-align: right;\n",
       "    }\n",
       "</style>\n",
       "<table border=\"1\" class=\"dataframe\">\n",
       "  <thead>\n",
       "    <tr style=\"text-align: right;\">\n",
       "      <th></th>\n",
       "      <th>gender</th>\n",
       "      <th>loan_body</th>\n",
       "      <th>income</th>\n",
       "      <th>income_type_name</th>\n",
       "    </tr>\n",
       "  </thead>\n",
       "  <tbody>\n",
       "    <tr>\n",
       "      <th>0</th>\n",
       "      <td>F</td>\n",
       "      <td>405000.0</td>\n",
       "      <td>202500.0</td>\n",
       "      <td>Working</td>\n",
       "    </tr>\n",
       "    <tr>\n",
       "      <th>1</th>\n",
       "      <td>F</td>\n",
       "      <td>454500.0</td>\n",
       "      <td>135000.0</td>\n",
       "      <td>Commercial associate</td>\n",
       "    </tr>\n",
       "    <tr>\n",
       "      <th>2</th>\n",
       "      <td>F</td>\n",
       "      <td>190764.0</td>\n",
       "      <td>67500.0</td>\n",
       "      <td>Working</td>\n",
       "    </tr>\n",
       "    <tr>\n",
       "      <th>3</th>\n",
       "      <td>F</td>\n",
       "      <td>1350000.0</td>\n",
       "      <td>157500.0</td>\n",
       "      <td>Working</td>\n",
       "    </tr>\n",
       "    <tr>\n",
       "      <th>4</th>\n",
       "      <td>F</td>\n",
       "      <td>594000.0</td>\n",
       "      <td>117000.0</td>\n",
       "      <td>Working</td>\n",
       "    </tr>\n",
       "    <tr>\n",
       "      <th>...</th>\n",
       "      <td>...</td>\n",
       "      <td>...</td>\n",
       "      <td>...</td>\n",
       "      <td>...</td>\n",
       "    </tr>\n",
       "    <tr>\n",
       "      <th>209102</th>\n",
       "      <td>F</td>\n",
       "      <td>270000.0</td>\n",
       "      <td>180000.0</td>\n",
       "      <td>Working</td>\n",
       "    </tr>\n",
       "    <tr>\n",
       "      <th>209103</th>\n",
       "      <td>M</td>\n",
       "      <td>312840.0</td>\n",
       "      <td>112500.0</td>\n",
       "      <td>Working</td>\n",
       "    </tr>\n",
       "    <tr>\n",
       "      <th>209104</th>\n",
       "      <td>F</td>\n",
       "      <td>2013840.0</td>\n",
       "      <td>202500.0</td>\n",
       "      <td>Commercial associate</td>\n",
       "    </tr>\n",
       "    <tr>\n",
       "      <th>209105</th>\n",
       "      <td>M</td>\n",
       "      <td>162000.0</td>\n",
       "      <td>67500.0</td>\n",
       "      <td>Working</td>\n",
       "    </tr>\n",
       "    <tr>\n",
       "      <th>209106</th>\n",
       "      <td>M</td>\n",
       "      <td>313438.5</td>\n",
       "      <td>315000.0</td>\n",
       "      <td>Working</td>\n",
       "    </tr>\n",
       "  </tbody>\n",
       "</table>\n",
       "<p>209107 rows × 4 columns</p>\n",
       "</div>"
      ]
     },
     "execution_count": 3,
     "metadata": {},
     "output_type": "execute_result"
    }
   ],
   "execution_count": 3
  },
  {
   "metadata": {
    "ExecuteTime": {
     "end_time": "2025-04-15T00:56:08.656451Z",
     "start_time": "2025-04-15T00:56:08.649310Z"
    }
   },
   "cell_type": "code",
   "source": [
    "y.value_counts()\n",
    "\n",
    "# Домашки"
   ],
   "id": "3ba0e0ad81e142fa",
   "outputs": [
    {
     "data": {
      "text/plain": [
       "target\n",
       "0    192219\n",
       "1     16888\n",
       "Name: count, dtype: int64"
      ]
     },
     "execution_count": 4,
     "metadata": {},
     "output_type": "execute_result"
    }
   ],
   "execution_count": 4
  },
  {
   "metadata": {
    "ExecuteTime": {
     "end_time": "2025-04-15T00:56:11.867956Z",
     "start_time": "2025-04-15T00:56:11.706991Z"
    }
   },
   "cell_type": "code",
   "source": [
    "import matplotlib.pyplot as plt\n",
    "import seaborn as sns\n",
    "\n",
    "plt.figure(figsize=(10, 6))\n",
    "plt.boxplot(X['loan_body'])\n",
    "plt.grid()\n"
   ],
   "id": "a78c2bc6300a2cb5",
   "outputs": [
    {
     "data": {
      "text/plain": [
       "<Figure size 1000x600 with 1 Axes>"
      ],
      "image/png": "[encoded data removed]"
     },
     "metadata": {},
     "output_type": "display_data"
    }
   ],
   "execution_count": 5
  },
  {
   "metadata": {
    "ExecuteTime": {
     "end_time": "2025-04-15T00:56:25.699054Z",
     "start_time": "2025-04-15T00:56:25.681408Z"
    }
   },
   "cell_type": "code",
   "source": [
    "q25 = X['loan_body'].quantile(0.25)\n",
    "q75 = X['loan_body'].quantile(0.75)\n",
    "iqr = q75 - q25\n",
    "iqr\n",
    "q25 - 1.5 * iqr\n",
    "q75 + 1.5 * iqr"
   ],
   "id": "f72934ec3ef305a2",
   "outputs": [
    {
     "data": {
      "text/plain": [
       "np.float64(1616625.0)"
      ]
     },
     "execution_count": 6,
     "metadata": {},
     "output_type": "execute_result"
    }
   ],
   "execution_count": 6
  },
  {
   "metadata": {
    "ExecuteTime": {
     "end_time": "2025-04-15T00:57:17.777592Z",
     "start_time": "2025-04-15T00:57:17.771122Z"
    }
   },
   "cell_type": "code",
   "source": "X['loan_body'].min()",
   "id": "ad2fce3258dd9cda",
   "outputs": [
    {
     "data": {
      "text/plain": [
       "np.float64(45000.0)"
      ]
     },
     "execution_count": 7,
     "metadata": {},
     "output_type": "execute_result"
    }
   ],
   "execution_count": 7
  },
  {
   "metadata": {
    "ExecuteTime": {
     "end_time": "2025-04-15T01:00:27.227053Z",
     "start_time": "2025-04-15T01:00:27.003176Z"
    }
   },
   "cell_type": "code",
   "source": [
    "loan_body_0 = df[df['target'] == 0]['loan_body']\n",
    "loan_body_1 = df[df['target'] == 1]['loan_body']"
   ],
   "id": "e5814d2edbd0fb92",
   "outputs": [],
   "execution_count": 8
  },
  {
   "metadata": {
    "ExecuteTime": {
     "end_time": "2025-04-15T01:03:48.326767Z",
     "start_time": "2025-04-15T01:03:48.242897Z"
    }
   },
   "cell_type": "code",
   "source": [
    "plt.boxplot([loan_body_0, loan_body_1], tick_labels=['нет просрочки', 'просрочка'])\n",
    "plt.grid(True)\n",
    "plt.ylabel('Сумма займа')\n",
    "plt.show()"
   ],
   "id": "fdc5e490595b285b",
   "outputs": [
    {
     "data": {
      "text/plain": [
       "<Figure size 640x480 with 1 Axes>"
      ],
      "image/png": "[encoded data removed]"
     },
     "metadata": {},
     "output_type": "display_data"
    }
   ],
   "execution_count": 12
  },
  {
   "metadata": {
    "ExecuteTime": {
     "end_time": "2025-04-15T01:14:44.158979Z",
     "start_time": "2025-04-15T01:14:44.055825Z"
    }
   },
   "cell_type": "code",
   "source": [
    "loan_body_0 = df[df['target'] == 0]['income']\n",
    "loan_body_1 = df[df['target'] == 1]['income']"
   ],
   "id": "28780ce77fb2b0be",
   "outputs": [],
   "execution_count": 25
  },
  {
   "metadata": {
    "ExecuteTime": {
     "end_time": "2025-04-15T01:14:45.497454Z",
     "start_time": "2025-04-15T01:14:45.417190Z"
    }
   },
   "cell_type": "code",
   "source": [
    "plt.boxplot([loan_body_0, loan_body_1], tick_labels=['нет просрочки', 'просрочка'])\n",
    "plt.grid(True)\n",
    "plt.ylabel('Сумма заработка')\n",
    "plt.show()"
   ],
   "id": "c1299912affbaa5f",
   "outputs": [
    {
     "data": {
      "text/plain": [
       "<Figure size 640x480 with 1 Axes>"
      ],
      "image/png": "[encoded data removed]"
     },
     "metadata": {},
     "output_type": "display_data"
    }
   ],
   "execution_count": 26
  },
  {
   "metadata": {
    "ExecuteTime": {
     "end_time": "2025-04-15T01:06:11.977268Z",
     "start_time": "2025-04-15T01:06:11.968831Z"
    }
   },
   "cell_type": "code",
   "source": "X[X['income'] > 100_000_000]",
   "id": "a3ac7cd4c5dcc454",
   "outputs": [
    {
     "data": {
      "text/plain": [
       "      gender  loan_body       income income_type_name\n",
       "82764      F   562491.0  117000000.0          Working"
      ],
      "text/html": [
       "<div>\n",
       "<style scoped>\n",
       "    .dataframe tbody tr th:only-of-type {\n",
       "        vertical-align: middle;\n",
       "    }\n",
       "\n",
       "    .dataframe tbody tr th {\n",
       "        vertical-align: top;\n",
       "    }\n",
       "\n",
       "    .dataframe thead th {\n",
       "        text-align: right;\n",
       "    }\n",
       "</style>\n",
       "<table border=\"1\" class=\"dataframe\">\n",
       "  <thead>\n",
       "    <tr style=\"text-align: right;\">\n",
       "      <th></th>\n",
       "      <th>gender</th>\n",
       "      <th>loan_body</th>\n",
       "      <th>income</th>\n",
       "      <th>income_type_name</th>\n",
       "    </tr>\n",
       "  </thead>\n",
       "  <tbody>\n",
       "    <tr>\n",
       "      <th>82764</th>\n",
       "      <td>F</td>\n",
       "      <td>562491.0</td>\n",
       "      <td>117000000.0</td>\n",
       "      <td>Working</td>\n",
       "    </tr>\n",
       "  </tbody>\n",
       "</table>\n",
       "</div>"
      ]
     },
     "execution_count": 16,
     "metadata": {},
     "output_type": "execute_result"
    }
   ],
   "execution_count": 16
  },
  {
   "metadata": {
    "ExecuteTime": {
     "end_time": "2025-04-15T01:14:41.103161Z",
     "start_time": "2025-04-15T01:14:40.982615Z"
    }
   },
   "cell_type": "code",
   "source": "df = df[df['income'] < 100_000_00]",
   "id": "f57f794585ddd896",
   "outputs": [],
   "execution_count": 24
  },
  {
   "metadata": {
    "ExecuteTime": {
     "end_time": "2025-04-15T01:21:50.649394Z",
     "start_time": "2025-04-15T01:21:50.645650Z"
    }
   },
   "cell_type": "code",
   "source": [
    "def predict(row):\n",
    "    if row['loan_body'] < 1_200_000 and (row['income'] < 200_000):\n",
    "        return 1\n",
    "    return 0"
   ],
   "id": "73af7f2cdfcfec39",
   "outputs": [],
   "execution_count": 28
  },
  {
   "metadata": {
    "ExecuteTime": {
     "end_time": "2025-04-15T01:21:55.206692Z",
     "start_time": "2025-04-15T01:21:51.761967Z"
    }
   },
   "cell_type": "code",
   "source": "df['pred'] = df.apply(predict, axis=1)",
   "id": "4327853a3063a8c6",
   "outputs": [],
   "execution_count": 29
  },
  {
   "metadata": {
    "ExecuteTime": {
     "end_time": "2025-04-15T01:22:10.879942Z",
     "start_time": "2025-04-15T01:22:10.871789Z"
    }
   },
   "cell_type": "code",
   "source": "df['pred'].value_counts()",
   "id": "b166ce7de51a0d92",
   "outputs": [
    {
     "data": {
      "text/plain": [
       "pred\n",
       "1    141657\n",
       "0     67447\n",
       "Name: count, dtype: int64"
      ]
     },
     "execution_count": 30,
     "metadata": {},
     "output_type": "execute_result"
    }
   ],
   "execution_count": 30
  },
  {
   "metadata": {
    "ExecuteTime": {
     "end_time": "2025-04-15T01:24:48.776016Z",
     "start_time": "2025-04-15T01:24:48.768885Z"
    }
   },
   "cell_type": "code",
   "source": [
    "df['f_acc'] = df['pred'] == df['target']\n",
    "df['f_acc']"
   ],
   "id": "eb20e3b72346ba68",
   "outputs": [
    {
     "data": {
      "text/plain": [
       "0          True\n",
       "1         False\n",
       "2         False\n",
       "3          True\n",
       "4         False\n",
       "          ...  \n",
       "209102    False\n",
       "209103    False\n",
       "209104     True\n",
       "209105    False\n",
       "209106     True\n",
       "Name: f_acc, Length: 209104, dtype: bool"
      ]
     },
     "execution_count": 32,
     "metadata": {},
     "output_type": "execute_result"
    }
   ],
   "execution_count": 32
  },
  {
   "metadata": {
    "ExecuteTime": {
     "end_time": "2025-04-15T01:30:56.102145Z",
     "start_time": "2025-04-15T01:30:56.053409Z"
    }
   },
   "cell_type": "code",
   "source": "len(df[df['f_acc'] == True]) / len(df['target'])",
   "id": "5b2311f44c0da7a4",
   "outputs": [
    {
     "data": {
      "text/plain": [
       "0.35785063891652"
      ]
     },
     "execution_count": 39,
     "metadata": {},
     "output_type": "execute_result"
    }
   ],
   "execution_count": 39
  }
 ],
 "metadata": {
  "kernelspec": {
   "display_name": "Python 3",
   "language": "python",
   "name": "python3"
  },
  "language_info": {
   "codemirror_mode": {
    "name": "ipython",
    "version": 2
   },
   "file_extension": ".py",
   "mimetype": "text/x-python",
   "name": "python",
   "nbconvert_exporter": "python",
   "pygments_lexer": "ipython2",
   "version": "2.7.6"
  }
 },
 "nbformat": 4,
 "nbformat_minor": 5
}
