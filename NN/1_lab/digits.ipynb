{
 "cells": [
  {
   "cell_type": "code",
   "id": "initial_id",
   "metadata": {
    "collapsed": true,
    "ExecuteTime": {
     "end_time": "2025-03-07T07:21:03.833109Z",
     "start_time": "2025-03-07T07:21:03.827536Z"
    }
   },
   "source": [
    "import numpy as np\n",
    "import matplotlib.pyplot as plt\n",
    "from sklearn.datasets import load_digits\n",
    "from sklearn.model_selection import train_test_split\n",
    "from sklearn.preprocessing import StandardScaler\n",
    "from sklearn.neural_network import MLPClassifier\n",
    "from sklearn.metrics import classification_report,confusion_matrix"
   ],
   "outputs": [],
   "execution_count": 2
  },
  {
   "cell_type": "code",
   "id": "edfb374f",
   "metadata": {
    "ExecuteTime": {
     "end_time": "2025-03-07T07:21:48.927066Z",
     "start_time": "2025-03-07T07:21:48.898437Z"
    }
   },
   "source": "! curl  https://www.kaggle.com/api/v1/datasets/download/hojjatk/mnist-dataset",
   "outputs": [
    {
     "ename": "SyntaxError",
     "evalue": "invalid syntax (2934975135.py, line 2)",
     "output_type": "error",
     "traceback": [
      "  \u001B[36mCell\u001B[39m\u001B[36m \u001B[39m\u001B[32mIn[6]\u001B[39m\u001B[32m, line 2\u001B[39m\n\u001B[31m    \u001B[39m\u001B[31mcurl  https://www.kaggle.com/api/v1/datasets/download/hojjatk/mnist-dataset\u001B[39m\n          ^\n\u001B[31mSyntaxError\u001B[39m\u001B[31m:\u001B[39m invalid syntax\n"
     ]
    }
   ],
   "execution_count": 6
  },
  {
   "cell_type": "code",
   "execution_count": 2,
   "id": "98e4919aef0932bf",
   "metadata": {
    "ExecuteTime": {
     "end_time": "2025-03-04T05:40:12.567022Z",
     "start_time": "2025-03-04T05:40:12.529494Z"
    }
   },
   "outputs": [],
   "source": [
    "digits = load_digits()\n",
    "\n",
    "X =digits.data\n",
    "y = digits.target\n",
    "\n",
    "X_train, X_test, y_train, y_test = train_test_split(X, y, test_size=0.2, random_state=42)\n",
    "\n"
   ]
  },
  {
   "cell_type": "code",
   "execution_count": 3,
   "id": "869f14a584cfb317",
   "metadata": {
    "ExecuteTime": {
     "end_time": "2025-03-04T05:40:14.657082Z",
     "start_time": "2025-03-04T05:40:12.961945Z"
    }
   },
   "outputs": [],
   "source": [
    "model = MLPClassifier(hidden_layer_sizes=(64, 32), activation='relu', max_iter=500, random_state=42)\n",
    "model.fit(X_train, y_train)\n",
    "\n",
    "predictions = model.predict(X_test)\n",
    "\n"
   ]
  },
  {
   "cell_type": "code",
   "execution_count": 5,
   "id": "e328f1290a536b36",
   "metadata": {
    "ExecuteTime": {
     "end_time": "2025-03-04T05:40:16.074525Z",
     "start_time": "2025-03-04T05:40:15.463062Z"
    }
   },
   "outputs": [
    {
     "name": "stdout",
     "output_type": "stream",
     "text": [
      "[[33  0  0  0  0  0  0  0  0  0]\n",
      " [ 0 28  0  0  0  0  0  0  0  0]\n",
      " [ 0  0 32  1  0  0  0  0  0  0]\n",
      " [ 0  0  0 33  0  1  0  0  0  0]\n",
      " [ 0  0  0  0 46  0  0  0  0  0]\n",
      " [ 0  0  0  0  0 45  1  0  0  1]\n",
      " [ 0  0  0  0  0  0 34  0  0  1]\n",
      " [ 0  0  0  0  0  1  0 33  0  0]\n",
      " [ 0  2  1  0  0  0  0  0 26  1]\n",
      " [ 0  0  0  0  0  0  0  0  2 38]]\n",
      "              precision    recall  f1-score   support\n",
      "\n",
      "           0       1.00      1.00      1.00        33\n",
      "           1       0.93      1.00      0.97        28\n",
      "           2       0.97      0.97      0.97        33\n",
      "           3       0.97      0.97      0.97        34\n",
      "           4       1.00      1.00      1.00        46\n",
      "           5       0.96      0.96      0.96        47\n",
      "           6       0.97      0.97      0.97        35\n",
      "           7       1.00      0.97      0.99        34\n",
      "           8       0.93      0.87      0.90        30\n",
      "           9       0.93      0.95      0.94        40\n",
      "\n",
      "    accuracy                           0.97       360\n",
      "   macro avg       0.97      0.97      0.97       360\n",
      "weighted avg       0.97      0.97      0.97       360\n",
      "\n"
     ]
    },
    {
     "data": {
      "image/png": "[encoded data removed]",
      "text/plain": [
       "<Figure size 1000x500 with 10 Axes>"
      ]
     },
     "metadata": {},
     "output_type": "display_data"
    }
   ],
   "source": [
    "print(confusion_matrix(y_test, predictions))\n",
    "print(classification_report(y_test, predictions))\n",
    "\n",
    "\n",
    "fig, axes = plt.subplots(2, 5, figsize=(10, 5))\n",
    "for ax, img, label, pred in zip(axes.ravel(), X_test, y_test, predictions):\n",
    "    ax.imshow(img.reshape(8, 8), cmap='gray')\n",
    "    ax.set_title(f'True: {label}\\nPred: {pred}')\n",
    "    ax.axis('off')\n",
    "plt.tight_layout()\n",
    "plt.show()"
   ]
  }
 ],
 "metadata": {
  "kernelspec": {
   "display_name": "Python 3",
   "language": "python",
   "name": "python3"
  },
  "language_info": {
   "codemirror_mode": {
    "name": "ipython",
    "version": 3
   },
   "file_extension": ".py",
   "mimetype": "text/x-python",
   "name": "python",
   "nbconvert_exporter": "python",
   "pygments_lexer": "ipython3",
   "version": "3.13.2"
  }
 },
 "nbformat": 4,
 "nbformat_minor": 5
}
