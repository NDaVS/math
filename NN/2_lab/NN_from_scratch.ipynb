{
 "nbformat": 4,
 "nbformat_minor": 0,
 "metadata": {
  "colab": {
   "provenance": []
  },
  "kernelspec": {
   "name": "python3",
   "display_name": "Python 3 (ipykernel)",
   "language": "python"
  },
  "language_info": {
   "name": "python"
  }
 },
 "cells": [
  {
   "cell_type": "code",
   "metadata": {
    "id": "_jlir_iO6oEl",
    "ExecuteTime": {
     "end_time": "2025-03-24T13:50:31.175969Z",
     "start_time": "2025-03-24T13:50:30.479760Z"
    }
   },
   "source": [
    "import numpy as np\n",
    "import pandas as pd\n",
    "import matplotlib.pyplot as plt\n",
    "import struct\n",
    "from array import array\n",
    "from os.path  import join"
   ],
   "outputs": [],
   "execution_count": 1
  },
  {
   "cell_type": "code",
   "source": [
    "!curl -L -o ./data.zip  https://www.kaggle.com/api/v1/datasets/download/hojjatk/mnist-dataset"
   ],
   "metadata": {
    "id": "AS9xPQS49lwC",
    "colab": {
     "base_uri": "https://localhost:8080/"
    },
    "outputId": "45f66b83-ae11-47dd-8017-4887a9e7681e",
    "ExecuteTime": {
     "end_time": "2025-03-24T13:51:34.283510Z",
     "start_time": "2025-03-24T13:50:36.113051Z"
    }
   },
   "outputs": [
    {
     "name": "stdout",
     "output_type": "stream",
     "text": [
      "  % Total    % Received % Xferd  Average Speed   Time    Time     Time  Current\r\n",
      "                                 Dload  Upload   Total   Spent    Left  Speed\r\n",
      "  0     0    0     0    0     0      0      0 --:--:--  0:00:01 --:--:--     0\r\n",
      "100 22.0M  100 22.0M    0     0   389k      0  0:00:58  0:00:58 --:--:-- 1360k  0  0:01:51  0:00:45  0:01:06  588k\r\n"
     ]
    }
   ],
   "execution_count": 2
  },
  {
   "cell_type": "code",
   "source": [
    "!unzip data.zip"
   ],
   "metadata": {
    "colab": {
     "base_uri": "https://localhost:8080/"
    },
    "id": "1NYkDDANktjG",
    "outputId": "c9fc897b-318d-497d-ea29-ccd8b2b83aab"
   },
   "execution_count": 3,
   "outputs": [
    {
     "output_type": "stream",
     "name": "stdout",
     "text": [
      "Archive:  data.zip\n",
      "  inflating: t10k-images-idx3-ubyte/t10k-images-idx3-ubyte  \n",
      "  inflating: t10k-images.idx3-ubyte  \n",
      "  inflating: t10k-labels-idx1-ubyte/t10k-labels-idx1-ubyte  \n",
      "  inflating: t10k-labels.idx1-ubyte  \n",
      "  inflating: train-images-idx3-ubyte/train-images-idx3-ubyte  \n",
      "  inflating: train-images.idx3-ubyte  \n",
      "  inflating: train-labels-idx1-ubyte/train-labels-idx1-ubyte  \n",
      "  inflating: train-labels.idx1-ubyte  \n"
     ]
    }
   ]
  },
  {
   "cell_type": "code",
   "source": [
    "import numpy as np\n",
    "import pandas as pd\n",
    "import struct\n",
    "from array import array\n",
    "\n",
    "class MnistDataloader(object):\n",
    "    def __init__(self, training_images_filepath, training_labels_filepath,\n",
    "                 test_images_filepath, test_labels_filepath):\n",
    "        self.training_images_filepath = training_images_filepath\n",
    "        self.training_labels_filepath = training_labels_filepath\n",
    "        self.test_images_filepath = test_images_filepath\n",
    "        self.test_labels_filepath = test_labels_filepath\n",
    "\n",
    "    def read_images_labels(self, images_filepath, labels_filepath):\n",
    "        labels = []\n",
    "        with open(labels_filepath, 'rb') as file:\n",
    "            magic, size = struct.unpack(\">II\", file.read(8))\n",
    "            if magic != 2049:\n",
    "                raise ValueError('Magic number mismatch, expected 2049, got {}'.format(magic))\n",
    "            labels = array(\"B\", file.read())\n",
    "\n",
    "        with open(images_filepath, 'rb') as file:\n",
    "            magic, size, rows, cols = struct.unpack(\">IIII\", file.read(16))\n",
    "            if magic != 2051:\n",
    "                raise ValueError('Magic number mismatch, expected 2051, got {}'.format(magic))\n",
    "            image_data = array(\"B\", file.read())\n",
    "        images = []\n",
    "        for i in range(size):\n",
    "            img = np.array(image_data[i * rows * cols:(i + 1) * rows * cols])\n",
    "            img = img.reshape(28, 28)\n",
    "            images.append(img.flatten())  # Flatten the image\n",
    "\n",
    "        return np.array(images), np.array(labels)  # Return as numpy arrays\n",
    "\n",
    "    def load_data(self):\n",
    "        x_train, y_train = self.read_images_labels(self.training_images_filepath, self.training_labels_filepath)\n",
    "        x_test, y_test = self.read_images_labels(self.test_images_filepath, self.test_labels_filepath)\n",
    "\n",
    "        # Shuffle the training data\n",
    "        data = np.hstack((y_train.reshape(-1, 1), x_train))  # Combine labels and images\n",
    "        np.random.shuffle(data)  # Shuffle the data\n",
    "\n",
    "        Y_train = data[:, 0]  # First column is labels\n",
    "        X_train = data[:, 1:]  # Remaining columns are images\n",
    "        X_train = X_train / 255.0  # Normalize pixel values\n",
    "\n",
    "        return (X_train, Y_train), (x_test, y_test)\n",
    "\n",
    "# Usage example\n",
    "# dataloader = MnistDataloader('train-images.idx3-ubyte', 'train-labels.idx1-ubyte', 't10k-images.idx3-ubyte', 't10k-labels.idx1-ubyte')\n",
    "# (X_train, Y_train), (X_test, Y_test) = dataloader.load_data()\n"
   ],
   "metadata": {
    "id": "2kYXFgPPk9tK"
   },
   "execution_count": 4,
   "outputs": []
  },
  {
   "cell_type": "code",
   "source": [
    "%matplotlib inline\n",
    "import random\n",
    "#\n",
    "# Set file paths based on added MNIST Datasets\n",
    "#\n",
    "input_path = './'\n",
    "training_images_filepath = join(input_path, 'train-images-idx3-ubyte/train-images-idx3-ubyte')\n",
    "training_labels_filepath = join(input_path, 'train-labels-idx1-ubyte/train-labels-idx1-ubyte')\n",
    "test_images_filepath = join(input_path, 't10k-images-idx3-ubyte/t10k-images-idx3-ubyte')\n",
    "test_labels_filepath = join(input_path, 't10k-labels-idx1-ubyte/t10k-labels-idx1-ubyte')\n",
    "\n",
    "#\n",
    "# Helper function to show a list of images with their relating titles\n",
    "#\n",
    "def show_images(images, title_texts):\n",
    "    cols = 5\n",
    "    rows = int(len(images)/cols) + 1\n",
    "    plt.figure(figsize=(30,20))\n",
    "    index = 1\n",
    "    for x in zip(images, title_texts):\n",
    "        image = x[0]\n",
    "        title_text = x[1]\n",
    "        plt.subplot(rows, cols, index)\n",
    "        plt.imshow(image, cmap=plt.cm.gray)\n",
    "        if (title_text != ''):\n",
    "            plt.title(title_text, fontsize = 15);\n",
    "        index += 1\n",
    "\n",
    "#\n",
    "# Load MINST dataset\n",
    "#\n",
    "mnist_dataloader = MnistDataloader(training_images_filepath, training_labels_filepath, test_images_filepath, test_labels_filepath)\n",
    "(x_train, y_train), (x_test, y_test) = mnist_dataloader.load_data()\n"
   ],
   "metadata": {
    "id": "lrSA_-qWlT_5"
   },
   "execution_count": 5,
   "outputs": []
  },
  {
   "cell_type": "code",
   "source": [
    "#data = pd.read_csv('train.csv')"
   ],
   "metadata": {
    "id": "zgbr4rAN9rz-"
   },
   "execution_count": null,
   "outputs": []
  },
  {
   "cell_type": "code",
   "source": [
    "#data = np.array(data)\n",
    "#m, n = data.shape\n",
    "#np.random.shuffle(data)"
   ],
   "metadata": {
    "id": "D9J3qsuc-KZR"
   },
   "execution_count": null,
   "outputs": []
  },
  {
   "cell_type": "code",
   "source": [
    "#data_dev = data[0:1000].T\n",
    "#Y_dev = data_dev[0]\n",
    "#X_dev = data_dev[1:n]\n",
    "#X_dev = X_dev / 255."
   ],
   "metadata": {
    "id": "G-Pr3KVI9qSZ"
   },
   "execution_count": null,
   "outputs": []
  },
  {
   "cell_type": "code",
   "source": [
    "#data_train = data[1000:m].T\n",
    "#Y_train = data_train[0]\n",
    "#X_train = data_train[1:n]\n",
    "#X_train = X_train / 255.\n",
    "#_,m_train = X_train.shape"
   ],
   "metadata": {
    "id": "bamvBpGS-6sW"
   },
   "execution_count": null,
   "outputs": []
  },
  {
   "cell_type": "code",
   "source": [
    "\n",
    "Y_train = y_train\n",
    "X_train = x_train.T\n",
    "_, m = X_train.shape"
   ],
   "metadata": {
    "collapsed": true,
    "id": "MzK2ZFiclxTt"
   },
   "execution_count": 6,
   "outputs": []
  },
  {
   "cell_type": "code",
   "source": [
    "m"
   ],
   "metadata": {
    "colab": {
     "base_uri": "https://localhost:8080/"
    },
    "id": "FQh66DsOm3uX",
    "outputId": "d64dbcd0-fc7f-4c4f-bb3c-0ec9b9bf53b4"
   },
   "execution_count": null,
   "outputs": [
    {
     "output_type": "execute_result",
     "data": {
      "text/plain": [
       "60000"
      ]
     },
     "metadata": {},
     "execution_count": 11
    }
   ]
  },
  {
   "cell_type": "code",
   "source": [
    "Y_train"
   ],
   "metadata": {
    "colab": {
     "base_uri": "https://localhost:8080/"
    },
    "id": "IfCGI_SeAjUq",
    "outputId": "d543eb03-20fb-4cee-97e3-1046e5eb965c"
   },
   "execution_count": null,
   "outputs": [
    {
     "output_type": "execute_result",
     "data": {
      "text/plain": [
       "array([6, 9, 6, ..., 0, 1, 4], dtype=uint8)"
      ]
     },
     "metadata": {},
     "execution_count": 12
    }
   ]
  },
  {
   "cell_type": "code",
   "source": [
    "def init_params():\n",
    "    W1 = np.random.normal(size=(10, 784)) * np.sqrt(1./(784))\n",
    "    b1 = np.random.normal(size=(10, 1)) * np.sqrt(1./10)\n",
    "    W2 = np.random.normal(size=(10, 10)) * np.sqrt(1./20)\n",
    "    b2 = np.random.normal(size=(10, 1)) * np.sqrt(1./(784))\n",
    "    return W1, b1, W2, b2\n"
   ],
   "metadata": {
    "id": "4EQaBfgKAk93"
   },
   "execution_count": 7,
   "outputs": []
  },
  {
   "cell_type": "code",
   "source": [
    "def ReLU(Z):\n",
    "  return np.maximum(Z, 0)"
   ],
   "metadata": {
    "id": "xkM5IceKBd9T"
   },
   "execution_count": 8,
   "outputs": []
  },
  {
   "cell_type": "code",
   "source": [
    "def softmax(Z):\n",
    "  exp = np.exp(Z - np.max(Z))\n",
    "  return exp / exp.sum(axis=0)"
   ],
   "metadata": {
    "id": "2uGKPDfIBjgm"
   },
   "execution_count": 9,
   "outputs": []
  },
  {
   "cell_type": "code",
   "source": [
    "def forward_prop(W1, b1, W2, b2, X):\n",
    "  Z1 = W1.dot(X) + b1\n",
    "  A1 = ReLU(Z1)\n",
    "  Z2 = W2.dot(A1) + b2\n",
    "  A2 = softmax(Z2)\n",
    "\n",
    "  return Z1, A1, Z2, A2"
   ],
   "metadata": {
    "id": "NZjJw7iwBsHl"
   },
   "execution_count": 10,
   "outputs": []
  },
  {
   "cell_type": "code",
   "source": [
    "def ReLU_deriv(Z):\n",
    "  return Z > 0"
   ],
   "metadata": {
    "id": "IT-ScvmwCLEe"
   },
   "execution_count": 11,
   "outputs": []
  },
  {
   "cell_type": "code",
   "source": [
    "def one_hot(Y):\n",
    "  one_hot_Y = np.zeros((Y.size, Y.max()+1))\n",
    "  one_hot_Y[np.arange(Y.size), Y] = 1\n",
    "  one_hot_Y = one_hot_Y.T\n",
    "  return one_hot_Y"
   ],
   "metadata": {
    "id": "8unAWQLZCRMj"
   },
   "execution_count": 12,
   "outputs": []
  },
  {
   "cell_type": "code",
   "source": [
    "def backward_prop(Z1, A1, Z2, A2, W1, W2, X, Y):\n",
    "    one_hot_Y = one_hot(Y)\n",
    "    dZ2 = A2 - one_hot_Y\n",
    "    dW2 = 1 / m * dZ2.dot(A1.T)\n",
    "    db2 = 1 / m * np.sum(dZ2)\n",
    "    dZ1 = W2.T.dot(dZ2) * ReLU_deriv(Z1)\n",
    "    dW1 = 1 / m * dZ1.dot(X.T)\n",
    "    db1 = 1 / m * np.sum(dZ1)\n",
    "    return dW1, db1, dW2, db2"
   ],
   "metadata": {
    "id": "HWdbq5LUC1UT"
   },
   "execution_count": 13,
   "outputs": []
  },
  {
   "cell_type": "code",
   "source": [
    "def update_params(W1, b1, W2, b2, dW1, db1, dW2, db2, alpha):\n",
    "  W1 = W1 - alpha * dW1\n",
    "  b1 = b1 - alpha * db1\n",
    "  W2 = W2 - alpha * dW2\n",
    "  b2 = b2 - alpha * db2\n",
    "\n",
    "  return W1, b1, W2, b2"
   ],
   "metadata": {
    "id": "tHNznhshD0Pf"
   },
   "execution_count": 14,
   "outputs": []
  },
  {
   "cell_type": "code",
   "source": [
    "def get_predictions(A2):\n",
    "    return np.argmax(A2, 0)\n"
   ],
   "metadata": {
    "id": "hRHYEJMlE-8h"
   },
   "execution_count": 15,
   "outputs": []
  },
  {
   "cell_type": "code",
   "source": [
    "def get_accuracy(predictions, Y):\n",
    "  return np.sum(predictions == Y) / Y.size"
   ],
   "metadata": {
    "id": "Fwlj66QmFnd2"
   },
   "execution_count": 16,
   "outputs": []
  },
  {
   "cell_type": "code",
   "source": [
    "import cv2\n",
    "import os\n",
    "from IPython.display import Video, display\n",
    "\n",
    "def save_weights_frame(W1, input_image, epoch, folder=\"frames\"):\n",
    "    os.makedirs(folder, exist_ok=True)\n",
    "\n",
    "    num_neurons = W1.shape[0]  # Число нейронов первого слоя\n",
    "    input_size = W1.shape[1]   # Размерность входа\n",
    "    img_size = int(np.sqrt(input_size))  # Определяем размер изображения\n",
    "\n",
    "    fig, axes = plt.subplots(1, num_neurons, figsize=(10, 2))\n",
    "\n",
    "    transformed_weights = W1 @ input_image  # Умножаем веса на входное изображение\n",
    "\n",
    "    for i, ax in enumerate(axes):\n",
    "        ax.imshow(transformed_weights[i, :].reshape((img_size, img_size)), cmap='gray')\n",
    "        ax.axis('off')\n",
    "\n",
    "    plt.savefig(f\"{folder}/frame_{epoch:04d}.png\")\n",
    "    plt.close()\n",
    "\n",
    "def gradient_descent(X, Y, alpha, iterations, X_test):\n",
    "    W1, b1, W2, b2 = init_params()\n",
    "    input_image = X_test[:, 0]  # Берем первое изображение из тестовой выборки\n",
    "\n",
    "    for i in range(iterations):\n",
    "        Z1, A1, Z2, A2 = forward_prop(W1, b1, W2, b2, X)\n",
    "        dW1, db1, dW2, db2 = backward_prop(Z1, A1, Z2, A2, W1, W2, X, Y)\n",
    "        W1, b1, W2, b2 = update_params(W1, b1, W2, b2, dW1, db1, dW2, db2, alpha)\n",
    "\n",
    "        save_weights_frame(W1, input_image, i)\n",
    "\n",
    "        if i % 10 == 0:\n",
    "            print(\"Iteration:\", i)\n",
    "            predictions = get_predictions(A2)\n",
    "            print(get_accuracy(predictions, Y))\n",
    "\n",
    "    return W1, b1, W2, b2\n",
    "\n",
    "def create_video(folder=\"frames\", output_video=\"weights_evolution.mp4\", fps=10):\n",
    "    images = sorted([img for img in os.listdir(folder) if img.endswith(\".png\")])\n",
    "    if not images:\n",
    "        print(\"No frames found.\")\n",
    "        return\n",
    "\n",
    "    frame = cv2.imread(os.path.join(folder, images[0]))\n",
    "    h, w, _ = frame.shape\n",
    "    fourcc = cv2.VideoWriter_fourcc(*'mp4v')\n",
    "    video = cv2.VideoWriter(output_video, fourcc, fps, (w, h))\n",
    "\n",
    "    for img in images:\n",
    "        frame = cv2.imread(os.path.join(folder, img))\n",
    "        video.write(frame)\n",
    "\n",
    "    video.release()\n",
    "    print(\"Video saved as\", output_video)"
   ],
   "metadata": {
    "id": "HJdeEOFDF4BP"
   },
   "execution_count": 31,
   "outputs": []
  },
  {
   "cell_type": "code",
   "source": [
    "W1, b1, W2, b2 = gradient_descent(X_train, Y_train, 0.1, 500)"
   ],
   "metadata": {
    "colab": {
     "base_uri": "https://localhost:8080/"
    },
    "id": "qW4xNzzHGmJo",
    "outputId": "99e83ead-bec3-4502-fdb9-326b15634ccc",
    "collapsed": true
   },
   "execution_count": 32,
   "outputs": [
    {
     "output_type": "stream",
     "name": "stdout",
     "text": [
      "Iteration: 0\n",
      "0.12676666666666667\n",
      "Iteration: 10\n",
      "0.34086666666666665\n",
      "Iteration: 20\n",
      "0.4647833333333333\n",
      "Iteration: 30\n",
      "0.6314333333333333\n",
      "Iteration: 40\n",
      "0.7384166666666667\n",
      "Iteration: 50\n",
      "0.7720333333333333\n",
      "Iteration: 60\n",
      "0.7963333333333333\n",
      "Iteration: 70\n",
      "0.8154666666666667\n",
      "Iteration: 80\n",
      "0.82965\n",
      "Iteration: 90\n",
      "0.8394\n",
      "Iteration: 100\n",
      "0.8468333333333333\n",
      "Iteration: 110\n",
      "0.85305\n",
      "Iteration: 120\n",
      "0.85855\n",
      "Iteration: 130\n",
      "0.8629833333333333\n",
      "Iteration: 140\n",
      "0.8667166666666667\n",
      "Iteration: 150\n",
      "0.8696166666666667\n",
      "Iteration: 160\n",
      "0.8716833333333334\n",
      "Iteration: 170\n",
      "0.8742833333333333\n",
      "Iteration: 180\n",
      "0.8763166666666666\n",
      "Iteration: 190\n",
      "0.8782\n",
      "Iteration: 200\n",
      "0.8802333333333333\n",
      "Iteration: 210\n",
      "0.8820166666666667\n",
      "Iteration: 220\n",
      "0.8832333333333333\n",
      "Iteration: 230\n",
      "0.8842666666666666\n",
      "Iteration: 240\n",
      "0.8859666666666667\n",
      "Iteration: 250\n",
      "0.8869833333333333\n",
      "Iteration: 260\n",
      "0.888\n",
      "Iteration: 270\n",
      "0.889\n",
      "Iteration: 280\n",
      "0.8898833333333334\n",
      "Iteration: 290\n",
      "0.8909333333333334\n",
      "Iteration: 300\n",
      "0.892\n",
      "Iteration: 310\n",
      "0.8928\n",
      "Iteration: 320\n",
      "0.8934666666666666\n",
      "Iteration: 330\n",
      "0.89425\n",
      "Iteration: 340\n",
      "0.89505\n",
      "Iteration: 350\n",
      "0.8956666666666667\n",
      "Iteration: 360\n",
      "0.8963\n",
      "Iteration: 370\n",
      "0.8968833333333334\n",
      "Iteration: 380\n",
      "0.8977\n",
      "Iteration: 390\n",
      "0.89825\n",
      "Iteration: 400\n",
      "0.89905\n",
      "Iteration: 410\n",
      "0.8996833333333333\n",
      "Iteration: 420\n",
      "0.9001833333333333\n",
      "Iteration: 430\n",
      "0.9006\n",
      "Iteration: 440\n",
      "0.9010666666666667\n",
      "Iteration: 450\n",
      "0.9013833333333333\n",
      "Iteration: 460\n",
      "0.9019333333333334\n",
      "Iteration: 470\n",
      "0.9023833333333333\n",
      "Iteration: 480\n",
      "0.9028833333333334\n",
      "Iteration: 490\n",
      "0.9032666666666667\n"
     ]
    }
   ]
  },
  {
   "cell_type": "code",
   "source": [
    "create_video()  # Создание видео\n",
    "def show_video(video_path=\"weights_evolution.mp4\"):\n",
    "    display(Video(video_path))\n",
    "show_video()"
   ],
   "metadata": {
    "colab": {
     "base_uri": "https://localhost:8080/",
     "height": 188
    },
    "id": "spXmZW1cWTNd",
    "outputId": "48c51893-a1d8-4b41-8bf0-0b69a86663b6"
   },
   "execution_count": 35,
   "outputs": [
    {
     "output_type": "stream",
     "name": "stdout",
     "text": [
      "Video saved as weights_evolution.mp4\n"
     ]
    },
    {
     "output_type": "display_data",
     "data": {
      "text/plain": [
       "<IPython.core.display.Video object>"
      ],
      "text/html": [
       "<video src=\"weights_evolution.mp4\" controls  >\n",
       "      Your browser does not support the <code>video</code> element.\n",
       "    </video>"
      ]
     },
     "metadata": {}
    }
   ]
  },
  {
   "cell_type": "code",
   "source": [
    "def make_predictions(X, W1, b1, W2, b2):\n",
    "    _, _, _, A2 = forward_prop(W1, b1, W2, b2, X)\n",
    "    predictions = get_predictions(A2)\n",
    "    return predictions\n",
    "\n",
    "def test_prediction(data, labels, W1, b1, W2, b2):\n",
    "    correct_predictions = 0\n",
    "    for index, x in enumerate(data):\n",
    "      prediction = make_predictions(X_train[:, index, None], W1, b1, W2, b2)\n",
    "      label = Y_train[index]\n",
    "      if prediction == label:\n",
    "        correct_predictions += 1\n",
    "    print(f'{correct_predictions}/{data.shape[0]}')\n",
    "    return correct_predictions / data.shape[0] * 100\n"
   ],
   "metadata": {
    "id": "I59RS_6ZG-TI"
   },
   "execution_count": null,
   "outputs": []
  },
  {
   "cell_type": "code",
   "source": [
    "Y_test = y_test\n",
    "X_test = x_test\n",
    "\n",
    "score = test_prediction(X_test, Y_test, W1, b1, W2, b2)\n",
    "print(score)"
   ],
   "metadata": {
    "colab": {
     "base_uri": "https://localhost:8080/"
    },
    "id": "NdbMbo_rKz6f",
    "outputId": "c2f7c24e-a854-43ce-bca2-03288017d596"
   },
   "execution_count": null,
   "outputs": [
    {
     "output_type": "stream",
     "name": "stdout",
     "text": [
      "9129/10000\n",
      "91.29\n"
     ]
    }
   ]
  },
  {
   "cell_type": "code",
   "source": [],
   "metadata": {
    "id": "5UAxvJo3r4cu"
   },
   "execution_count": null,
   "outputs": []
  }
 ]
}
