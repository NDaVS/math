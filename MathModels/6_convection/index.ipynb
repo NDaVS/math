{
 "cells": [
  {
   "metadata": {
    "ExecuteTime": {
     "end_time": "2025-05-29T03:10:47.689378Z",
     "start_time": "2025-05-29T03:10:46.828040Z"
    }
   },
   "cell_type": "code",
   "source": [
    "import numpy as np\n",
    "import pandas as pd\n",
    "import matplotlib.pyplot as plt\n",
    "import os\n"
   ],
   "id": "ef4650598c147431",
   "outputs": [],
   "execution_count": 1
  },
  {
   "metadata": {
    "collapsed": true,
    "ExecuteTime": {
     "end_time": "2025-05-29T03:23:09.437078Z",
     "start_time": "2025-05-29T03:23:09.267001Z"
    }
   },
   "cell_type": "code",
   "source": [
    "\n",
    "# Загрузка всего файла\n",
    "data = pd.read_csv(\"particles_output.csv\")  # или путь к твоему большому файлу\n",
    "\n",
    "\n"
   ],
   "id": "initial_id",
   "outputs": [],
   "execution_count": 7
  },
  {
   "metadata": {
    "ExecuteTime": {
     "end_time": "2025-05-29T03:13:35.313240Z",
     "start_time": "2025-05-29T03:13:35.219732Z"
    }
   },
   "cell_type": "code",
   "source": "data.describe()",
   "id": "398e3db0af44ddd6",
   "outputs": [
    {
     "data": {
      "text/plain": [
       "                    x               y             c\n",
       "count  1000000.000000  1000000.000000  1.000000e+06\n",
       "mean         0.499000        0.500163 -1.500000e-08\n",
       "std          0.321715        0.401885  1.104644e+00\n",
       "min          0.000000        0.000000 -1.373400e+00\n",
       "25%          0.243300        0.060664 -1.190285e+00\n",
       "50%          0.499932        0.500459  0.000000e+00\n",
       "75%          0.751052        0.939303  1.190285e+00\n",
       "max          1.000000        1.000000  1.373400e+00"
      ],
      "text/html": [
       "<div>\n",
       "<style scoped>\n",
       "    .dataframe tbody tr th:only-of-type {\n",
       "        vertical-align: middle;\n",
       "    }\n",
       "\n",
       "    .dataframe tbody tr th {\n",
       "        vertical-align: top;\n",
       "    }\n",
       "\n",
       "    .dataframe thead th {\n",
       "        text-align: right;\n",
       "    }\n",
       "</style>\n",
       "<table border=\"1\" class=\"dataframe\">\n",
       "  <thead>\n",
       "    <tr style=\"text-align: right;\">\n",
       "      <th></th>\n",
       "      <th>x</th>\n",
       "      <th>y</th>\n",
       "      <th>c</th>\n",
       "    </tr>\n",
       "  </thead>\n",
       "  <tbody>\n",
       "    <tr>\n",
       "      <th>count</th>\n",
       "      <td>1000000.000000</td>\n",
       "      <td>1000000.000000</td>\n",
       "      <td>1.000000e+06</td>\n",
       "    </tr>\n",
       "    <tr>\n",
       "      <th>mean</th>\n",
       "      <td>0.499000</td>\n",
       "      <td>0.500163</td>\n",
       "      <td>-1.500000e-08</td>\n",
       "    </tr>\n",
       "    <tr>\n",
       "      <th>std</th>\n",
       "      <td>0.321715</td>\n",
       "      <td>0.401885</td>\n",
       "      <td>1.104644e+00</td>\n",
       "    </tr>\n",
       "    <tr>\n",
       "      <th>min</th>\n",
       "      <td>0.000000</td>\n",
       "      <td>0.000000</td>\n",
       "      <td>-1.373400e+00</td>\n",
       "    </tr>\n",
       "    <tr>\n",
       "      <th>25%</th>\n",
       "      <td>0.243300</td>\n",
       "      <td>0.060664</td>\n",
       "      <td>-1.190285e+00</td>\n",
       "    </tr>\n",
       "    <tr>\n",
       "      <th>50%</th>\n",
       "      <td>0.499932</td>\n",
       "      <td>0.500459</td>\n",
       "      <td>0.000000e+00</td>\n",
       "    </tr>\n",
       "    <tr>\n",
       "      <th>75%</th>\n",
       "      <td>0.751052</td>\n",
       "      <td>0.939303</td>\n",
       "      <td>1.190285e+00</td>\n",
       "    </tr>\n",
       "    <tr>\n",
       "      <th>max</th>\n",
       "      <td>1.000000</td>\n",
       "      <td>1.000000</td>\n",
       "      <td>1.373400e+00</td>\n",
       "    </tr>\n",
       "  </tbody>\n",
       "</table>\n",
       "</div>"
      ]
     },
     "execution_count": 4,
     "metadata": {},
     "output_type": "execute_result"
    }
   ],
   "execution_count": 4
  },
  {
   "metadata": {
    "ExecuteTime": {
     "end_time": "2025-05-29T03:36:37.715126Z",
     "start_time": "2025-05-29T03:36:25.415118Z"
    }
   },
   "cell_type": "code",
   "source": [
    "\n",
    "os.makedirs(\"frames\", exist_ok=True)\n",
    "\n",
    "for t in range(1):\n",
    "    frame = data[t * 1000000 : (t + 1) * 1000000].reset_index(drop=True)\n",
    "\n",
    "    x = frame[\"x\"].values\n",
    "    y = frame[\"y\"].values\n",
    "    c = frame[\"c\"].values\n",
    "\n",
    "    plt.figure(figsize=(10, 10))\n",
    "    sc = plt.scatter(x, y, c=c, cmap=\"jet\", s=0.5, edgecolor=\"none\")\n",
    "    plt.colorbar(sc, label=\"c\")\n",
    "    plt.title(f\"Lagrangian Particles — Step t={t}\")\n",
    "    plt.xlim(0, 1)\n",
    "    plt.ylim(0, 1)\n",
    "    plt.xlabel(\"x\")\n",
    "    plt.ylabel(\"y\")\n",
    "    plt.axis(\"equal\")\n",
    "    plt.grid(False)\n",
    "    plt.tight_layout()\n",
    "\n",
    "    plt.savefig(f\"frames/frame_{int(t):03d}.png\", dpi=300)\n",
    "    plt.close()\n"
   ],
   "id": "c86555a80d6338d3",
   "outputs": [],
   "execution_count": 9
  }
 ],
 "metadata": {
  "kernelspec": {
   "display_name": "Python 3",
   "language": "python",
   "name": "python3"
  },
  "language_info": {
   "codemirror_mode": {
    "name": "ipython",
    "version": 2
   },
   "file_extension": ".py",
   "mimetype": "text/x-python",
   "name": "python",
   "nbconvert_exporter": "python",
   "pygments_lexer": "ipython2",
   "version": "2.7.6"
  }
 },
 "nbformat": 4,
 "nbformat_minor": 5
}
